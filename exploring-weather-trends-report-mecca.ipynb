{
 "cells": [
  {
   "cell_type": "markdown",
   "id": "c1c10b04",
   "metadata": {
    "papermill": {
     "duration": 0.019306,
     "end_time": "2021-07-27T08:11:32.155561",
     "exception": false,
     "start_time": "2021-07-27T08:11:32.136255",
     "status": "completed"
    },
    "tags": []
   },
   "source": [
    "# Exploring Weather Trends Report"
   ]
  },
  {
   "cell_type": "markdown",
   "id": "a7a3ce59",
   "metadata": {
    "papermill": {
     "duration": 0.017779,
     "end_time": "2021-07-27T08:11:32.193322",
     "exception": false,
     "start_time": "2021-07-27T08:11:32.175543",
     "status": "completed"
    },
    "tags": []
   },
   "source": [
    "### tools for each step?  \n",
    "    Python (pandas for data processing and matplotlib for visualization)\n",
    "\n",
    "### How did you calculate the moving average? \n",
    "       Rolling average for 5 years (mean)\n",
    "\n",
    "### What were your key considerations when deciding how to visualize the trends?  \n",
    "    The range of data, the average\n"
   ]
  },
  {
   "cell_type": "markdown",
   "id": "4a57ae01",
   "metadata": {
    "papermill": {
     "duration": 0.017925,
     "end_time": "2021-07-27T08:11:32.229425",
     "exception": false,
     "start_time": "2021-07-27T08:11:32.211500",
     "status": "completed"
    },
    "tags": []
   },
   "source": [
    "- Import the libraries and Load the Dataset (CSV file) & Processing the data (Missing value)"
   ]
  },
  {
   "cell_type": "code",
   "execution_count": 1,
   "id": "68d723fa",
   "metadata": {
    "execution": {
     "iopub.execute_input": "2021-07-27T08:11:32.279439Z",
     "iopub.status.busy": "2021-07-27T08:11:32.278764Z",
     "iopub.status.idle": "2021-07-27T08:11:32.282422Z",
     "shell.execute_reply": "2021-07-27T08:11:32.281768Z",
     "shell.execute_reply.started": "2021-07-27T08:00:17.439325Z"
    },
    "papermill": {
     "duration": 0.035126,
     "end_time": "2021-07-27T08:11:32.282597",
     "exception": false,
     "start_time": "2021-07-27T08:11:32.247471",
     "status": "completed"
    },
    "tags": []
   },
   "outputs": [],
   "source": [
    "import pandas as pd\n",
    "import matplotlib.pyplot as plt\n",
    "\n",
    "%matplotlib inline\n"
   ]
  },
  {
   "cell_type": "code",
   "execution_count": 2,
   "id": "326558a0",
   "metadata": {
    "execution": {
     "iopub.execute_input": "2021-07-27T08:11:32.325321Z",
     "iopub.status.busy": "2021-07-27T08:11:32.324428Z",
     "iopub.status.idle": "2021-07-27T08:11:32.432029Z",
     "shell.execute_reply": "2021-07-27T08:11:32.431430Z",
     "shell.execute_reply.started": "2021-07-27T08:00:17.511546Z"
    },
    "papermill": {
     "duration": 0.130641,
     "end_time": "2021-07-27T08:11:32.432184",
     "exception": false,
     "start_time": "2021-07-27T08:11:32.301543",
     "status": "completed"
    },
    "tags": []
   },
   "outputs": [],
   "source": [
    "df = pd.read_csv('../input/dataset/results.csv')"
   ]
  },
  {
   "cell_type": "code",
   "execution_count": 3,
   "id": "abacb5e6",
   "metadata": {
    "execution": {
     "iopub.execute_input": "2021-07-27T08:11:32.481266Z",
     "iopub.status.busy": "2021-07-27T08:11:32.480289Z",
     "iopub.status.idle": "2021-07-27T08:11:32.501458Z",
     "shell.execute_reply": "2021-07-27T08:11:32.500912Z",
     "shell.execute_reply.started": "2021-07-27T08:00:17.535056Z"
    },
    "papermill": {
     "duration": 0.050747,
     "end_time": "2021-07-27T08:11:32.501612",
     "exception": false,
     "start_time": "2021-07-27T08:11:32.450865",
     "status": "completed"
    },
    "scrolled": true,
    "tags": []
   },
   "outputs": [
    {
     "data": {
      "text/html": [
       "<div>\n",
       "<style scoped>\n",
       "    .dataframe tbody tr th:only-of-type {\n",
       "        vertical-align: middle;\n",
       "    }\n",
       "\n",
       "    .dataframe tbody tr th {\n",
       "        vertical-align: top;\n",
       "    }\n",
       "\n",
       "    .dataframe thead th {\n",
       "        text-align: right;\n",
       "    }\n",
       "</style>\n",
       "<table border=\"1\" class=\"dataframe\">\n",
       "  <thead>\n",
       "    <tr style=\"text-align: right;\">\n",
       "      <th></th>\n",
       "      <th>year</th>\n",
       "      <th>city</th>\n",
       "      <th>city_temp</th>\n",
       "      <th>global_temp</th>\n",
       "    </tr>\n",
       "  </thead>\n",
       "  <tbody>\n",
       "    <tr>\n",
       "      <th>0</th>\n",
       "      <td>1843</td>\n",
       "      <td>Mecca</td>\n",
       "      <td>25.16</td>\n",
       "      <td>8.17</td>\n",
       "    </tr>\n",
       "    <tr>\n",
       "      <th>1</th>\n",
       "      <td>1844</td>\n",
       "      <td>Mecca</td>\n",
       "      <td>19.05</td>\n",
       "      <td>7.65</td>\n",
       "    </tr>\n",
       "    <tr>\n",
       "      <th>2</th>\n",
       "      <td>1845</td>\n",
       "      <td>Mecca</td>\n",
       "      <td>22.46</td>\n",
       "      <td>7.85</td>\n",
       "    </tr>\n",
       "    <tr>\n",
       "      <th>3</th>\n",
       "      <td>1846</td>\n",
       "      <td>Mecca</td>\n",
       "      <td>NaN</td>\n",
       "      <td>8.55</td>\n",
       "    </tr>\n",
       "    <tr>\n",
       "      <th>4</th>\n",
       "      <td>1847</td>\n",
       "      <td>Mecca</td>\n",
       "      <td>NaN</td>\n",
       "      <td>8.09</td>\n",
       "    </tr>\n",
       "  </tbody>\n",
       "</table>\n",
       "</div>"
      ],
      "text/plain": [
       "   year   city  city_temp  global_temp\n",
       "0  1843  Mecca      25.16         8.17\n",
       "1  1844  Mecca      19.05         7.65\n",
       "2  1845  Mecca      22.46         7.85\n",
       "3  1846  Mecca        NaN         8.55\n",
       "4  1847  Mecca        NaN         8.09"
      ]
     },
     "execution_count": 3,
     "metadata": {},
     "output_type": "execute_result"
    }
   ],
   "source": [
    "df.head()"
   ]
  },
  {
   "cell_type": "code",
   "execution_count": 4,
   "id": "45642e5a",
   "metadata": {
    "execution": {
     "iopub.execute_input": "2021-07-27T08:11:32.551987Z",
     "iopub.status.busy": "2021-07-27T08:11:32.550891Z",
     "iopub.status.idle": "2021-07-27T08:11:32.570457Z",
     "shell.execute_reply": "2021-07-27T08:11:32.569773Z",
     "shell.execute_reply.started": "2021-07-27T08:00:17.657436Z"
    },
    "papermill": {
     "duration": 0.049667,
     "end_time": "2021-07-27T08:11:32.570601",
     "exception": false,
     "start_time": "2021-07-27T08:11:32.520934",
     "status": "completed"
    },
    "tags": []
   },
   "outputs": [
    {
     "data": {
      "text/html": [
       "<div>\n",
       "<style scoped>\n",
       "    .dataframe tbody tr th:only-of-type {\n",
       "        vertical-align: middle;\n",
       "    }\n",
       "\n",
       "    .dataframe tbody tr th {\n",
       "        vertical-align: top;\n",
       "    }\n",
       "\n",
       "    .dataframe thead th {\n",
       "        text-align: right;\n",
       "    }\n",
       "</style>\n",
       "<table border=\"1\" class=\"dataframe\">\n",
       "  <thead>\n",
       "    <tr style=\"text-align: right;\">\n",
       "      <th></th>\n",
       "      <th>year</th>\n",
       "      <th>city_temp</th>\n",
       "      <th>global_temp</th>\n",
       "    </tr>\n",
       "  </thead>\n",
       "  <tbody>\n",
       "    <tr>\n",
       "      <th>count</th>\n",
       "      <td>171.000000</td>\n",
       "      <td>156.000000</td>\n",
       "      <td>171.000000</td>\n",
       "    </tr>\n",
       "    <tr>\n",
       "      <th>mean</th>\n",
       "      <td>1928.000000</td>\n",
       "      <td>25.608910</td>\n",
       "      <td>8.536784</td>\n",
       "    </tr>\n",
       "    <tr>\n",
       "      <th>std</th>\n",
       "      <td>49.507575</td>\n",
       "      <td>0.845988</td>\n",
       "      <td>0.464516</td>\n",
       "    </tr>\n",
       "    <tr>\n",
       "      <th>min</th>\n",
       "      <td>1843.000000</td>\n",
       "      <td>19.050000</td>\n",
       "      <td>7.560000</td>\n",
       "    </tr>\n",
       "    <tr>\n",
       "      <th>25%</th>\n",
       "      <td>1885.500000</td>\n",
       "      <td>25.260000</td>\n",
       "      <td>8.180000</td>\n",
       "    </tr>\n",
       "    <tr>\n",
       "      <th>50%</th>\n",
       "      <td>1928.000000</td>\n",
       "      <td>25.605000</td>\n",
       "      <td>8.520000</td>\n",
       "    </tr>\n",
       "    <tr>\n",
       "      <th>75%</th>\n",
       "      <td>1970.500000</td>\n",
       "      <td>26.020000</td>\n",
       "      <td>8.760000</td>\n",
       "    </tr>\n",
       "    <tr>\n",
       "      <th>max</th>\n",
       "      <td>2013.000000</td>\n",
       "      <td>27.570000</td>\n",
       "      <td>9.730000</td>\n",
       "    </tr>\n",
       "  </tbody>\n",
       "</table>\n",
       "</div>"
      ],
      "text/plain": [
       "              year   city_temp  global_temp\n",
       "count   171.000000  156.000000   171.000000\n",
       "mean   1928.000000   25.608910     8.536784\n",
       "std      49.507575    0.845988     0.464516\n",
       "min    1843.000000   19.050000     7.560000\n",
       "25%    1885.500000   25.260000     8.180000\n",
       "50%    1928.000000   25.605000     8.520000\n",
       "75%    1970.500000   26.020000     8.760000\n",
       "max    2013.000000   27.570000     9.730000"
      ]
     },
     "execution_count": 4,
     "metadata": {},
     "output_type": "execute_result"
    }
   ],
   "source": [
    "df.describe()"
   ]
  },
  {
   "cell_type": "markdown",
   "id": "2b3f0d14",
   "metadata": {
    "papermill": {
     "duration": 0.019099,
     "end_time": "2021-07-27T08:11:32.609068",
     "exception": false,
     "start_time": "2021-07-27T08:11:32.589969",
     "status": "completed"
    },
    "tags": []
   },
   "source": [
    "- The minimum value of City temperature was 19 and the maximum value was 27.5\n",
    "- The minimum value of Global temperature was 7.5 and the maximum value was 9.7\n",
    "- 11.5 degrees difference between Mecca temperature and the global temperature with maximum difference 17.8 degrees"
   ]
  },
  {
   "cell_type": "code",
   "execution_count": 5,
   "id": "e4c6530a",
   "metadata": {
    "execution": {
     "iopub.execute_input": "2021-07-27T08:11:32.669625Z",
     "iopub.status.busy": "2021-07-27T08:11:32.668533Z",
     "iopub.status.idle": "2021-07-27T08:11:32.688876Z",
     "shell.execute_reply": "2021-07-27T08:11:32.688123Z",
     "shell.execute_reply.started": "2021-07-27T08:00:17.689712Z"
    },
    "papermill": {
     "duration": 0.057054,
     "end_time": "2021-07-27T08:11:32.689036",
     "exception": false,
     "start_time": "2021-07-27T08:11:32.631982",
     "status": "completed"
    },
    "tags": []
   },
   "outputs": [
    {
     "name": "stdout",
     "output_type": "stream",
     "text": [
      "<class 'pandas.core.frame.DataFrame'>\n",
      "RangeIndex: 171 entries, 0 to 170\n",
      "Data columns (total 4 columns):\n",
      " #   Column       Non-Null Count  Dtype  \n",
      "---  ------       --------------  -----  \n",
      " 0   year         171 non-null    int64  \n",
      " 1   city         171 non-null    object \n",
      " 2   city_temp    156 non-null    float64\n",
      " 3   global_temp  171 non-null    float64\n",
      "dtypes: float64(2), int64(1), object(1)\n",
      "memory usage: 5.5+ KB\n"
     ]
    }
   ],
   "source": [
    "df.info()"
   ]
  },
  {
   "cell_type": "code",
   "execution_count": 6,
   "id": "54fa070f",
   "metadata": {
    "execution": {
     "iopub.execute_input": "2021-07-27T08:11:32.753305Z",
     "iopub.status.busy": "2021-07-27T08:11:32.751415Z",
     "iopub.status.idle": "2021-07-27T08:11:32.756398Z",
     "shell.execute_reply": "2021-07-27T08:11:32.757067Z",
     "shell.execute_reply.started": "2021-07-27T08:00:17.711464Z"
    },
    "papermill": {
     "duration": 0.044418,
     "end_time": "2021-07-27T08:11:32.757305",
     "exception": false,
     "start_time": "2021-07-27T08:11:32.712887",
     "status": "completed"
    },
    "tags": []
   },
   "outputs": [
    {
     "name": "stdout",
     "output_type": "stream",
     "text": [
      "<class 'pandas.core.frame.DataFrame'>\n",
      "RangeIndex: 171 entries, 0 to 170\n",
      "Data columns (total 4 columns):\n",
      " #   Column       Non-Null Count  Dtype  \n",
      "---  ------       --------------  -----  \n",
      " 0   year         171 non-null    int64  \n",
      " 1   city         171 non-null    object \n",
      " 2   city_temp    171 non-null    float64\n",
      " 3   global_temp  171 non-null    float64\n",
      "dtypes: float64(2), int64(1), object(1)\n",
      "memory usage: 5.5+ KB\n"
     ]
    }
   ],
   "source": [
    "df['city_temp'] = df['city_temp'].fillna(df['city_temp'].mean())\n",
    "df.info()"
   ]
  },
  {
   "cell_type": "markdown",
   "id": "2d90b4c6",
   "metadata": {
    "papermill": {
     "duration": 0.019649,
     "end_time": "2021-07-27T08:11:32.798753",
     "exception": false,
     "start_time": "2021-07-27T08:11:32.779104",
     "status": "completed"
    },
    "tags": []
   },
   "source": [
    "- The data types for each city_temp and global_temp are ‘float’, so we can use it to plot the data.\n",
    "- Handle the missing values (15 values were missing) in the city_temp column with the mean."
   ]
  },
  {
   "cell_type": "markdown",
   "id": "c3bb1dc2",
   "metadata": {
    "papermill": {
     "duration": 0.019474,
     "end_time": "2021-07-27T08:11:32.838995",
     "exception": false,
     "start_time": "2021-07-27T08:11:32.819521",
     "status": "completed"
    },
    "tags": []
   },
   "source": [
    "### Line chart shows the temperature without moving average\n"
   ]
  },
  {
   "cell_type": "code",
   "execution_count": 7,
   "id": "b0b288c1",
   "metadata": {
    "execution": {
     "iopub.execute_input": "2021-07-27T08:11:32.904161Z",
     "iopub.status.busy": "2021-07-27T08:11:32.900121Z",
     "iopub.status.idle": "2021-07-27T08:11:33.126159Z",
     "shell.execute_reply": "2021-07-27T08:11:33.126631Z",
     "shell.execute_reply.started": "2021-07-27T08:00:17.746667Z"
    },
    "papermill": {
     "duration": 0.267021,
     "end_time": "2021-07-27T08:11:33.126828",
     "exception": false,
     "start_time": "2021-07-27T08:11:32.859807",
     "status": "completed"
    },
    "tags": []
   },
   "outputs": [
    {
     "data": {
      "image/png": "[encoded data removed]",
      "text/plain": [
       "<Figure size 432x288 with 1 Axes>"
      ]
     },
     "metadata": {
      "needs_background": "light"
     },
     "output_type": "display_data"
    }
   ],
   "source": [
    "#Plot Mecca city Temperature Vs. global temperature\n",
    "\n",
    "plt.plot(df['year'],df['global_temp'],label='Global')\n",
    "plt.plot(df['year'],df['city_temp'],label='Mecca')\n",
    "plt.legend()\n",
    "plt.title(\"average temperature comparison, Global Vs Mecca\")\n",
    "plt.xlabel(\"Years\")\n",
    "plt.ylabel(\"Temperature (°C)\") \n",
    "plt.show()"
   ]
  },
  {
   "cell_type": "markdown",
   "id": "c209cc9d",
   "metadata": {
    "papermill": {
     "duration": 0.021981,
     "end_time": "2021-07-27T08:11:33.170109",
     "exception": false,
     "start_time": "2021-07-27T08:11:33.148128",
     "status": "completed"
    },
    "tags": []
   },
   "source": [
    "###  Calculate Moving averages to use it in the line chart."
   ]
  },
  {
   "cell_type": "code",
   "execution_count": 8,
   "id": "4afb535f",
   "metadata": {
    "execution": {
     "iopub.execute_input": "2021-07-27T08:11:33.226561Z",
     "iopub.status.busy": "2021-07-27T08:11:33.225521Z",
     "iopub.status.idle": "2021-07-27T08:11:33.228594Z",
     "shell.execute_reply": "2021-07-27T08:11:33.227961Z",
     "shell.execute_reply.started": "2021-07-27T08:00:18.015736Z"
    },
    "papermill": {
     "duration": 0.03627,
     "end_time": "2021-07-27T08:11:33.228756",
     "exception": false,
     "start_time": "2021-07-27T08:11:33.192486",
     "status": "completed"
    },
    "scrolled": true,
    "tags": []
   },
   "outputs": [],
   "source": [
    "df[\"rolling_Average_city\"] = df[\"city_temp\"].rolling(window = 5).mean()\n",
    "df.reset_index(inplace = True, drop = True)\n",
    "\n",
    "df[\"rolling_Average_global\"] = df[\"global_temp\"].rolling(window = 5).mean()"
   ]
  },
  {
   "cell_type": "code",
   "execution_count": 9,
   "id": "6d8bb661",
   "metadata": {
    "execution": {
     "iopub.execute_input": "2021-07-27T08:11:33.284630Z",
     "iopub.status.busy": "2021-07-27T08:11:33.283976Z",
     "iopub.status.idle": "2021-07-27T08:11:33.288433Z",
     "shell.execute_reply": "2021-07-27T08:11:33.287708Z",
     "shell.execute_reply.started": "2021-07-27T08:00:18.029872Z"
    },
    "papermill": {
     "duration": 0.038801,
     "end_time": "2021-07-27T08:11:33.288585",
     "exception": false,
     "start_time": "2021-07-27T08:11:33.249784",
     "status": "completed"
    },
    "scrolled": true,
    "tags": []
   },
   "outputs": [
    {
     "data": {
      "text/html": [
       "<div>\n",
       "<style scoped>\n",
       "    .dataframe tbody tr th:only-of-type {\n",
       "        vertical-align: middle;\n",
       "    }\n",
       "\n",
       "    .dataframe tbody tr th {\n",
       "        vertical-align: top;\n",
       "    }\n",
       "\n",
       "    .dataframe thead th {\n",
       "        text-align: right;\n",
       "    }\n",
       "</style>\n",
       "<table border=\"1\" class=\"dataframe\">\n",
       "  <thead>\n",
       "    <tr style=\"text-align: right;\">\n",
       "      <th></th>\n",
       "      <th>year</th>\n",
       "      <th>city</th>\n",
       "      <th>city_temp</th>\n",
       "      <th>global_temp</th>\n",
       "      <th>rolling_Average_city</th>\n",
       "      <th>rolling_Average_global</th>\n",
       "    </tr>\n",
       "  </thead>\n",
       "  <tbody>\n",
       "    <tr>\n",
       "      <th>0</th>\n",
       "      <td>1843</td>\n",
       "      <td>Mecca</td>\n",
       "      <td>25.16000</td>\n",
       "      <td>8.17</td>\n",
       "      <td>NaN</td>\n",
       "      <td>NaN</td>\n",
       "    </tr>\n",
       "    <tr>\n",
       "      <th>1</th>\n",
       "      <td>1844</td>\n",
       "      <td>Mecca</td>\n",
       "      <td>19.05000</td>\n",
       "      <td>7.65</td>\n",
       "      <td>NaN</td>\n",
       "      <td>NaN</td>\n",
       "    </tr>\n",
       "    <tr>\n",
       "      <th>2</th>\n",
       "      <td>1845</td>\n",
       "      <td>Mecca</td>\n",
       "      <td>22.46000</td>\n",
       "      <td>7.85</td>\n",
       "      <td>NaN</td>\n",
       "      <td>NaN</td>\n",
       "    </tr>\n",
       "    <tr>\n",
       "      <th>3</th>\n",
       "      <td>1846</td>\n",
       "      <td>Mecca</td>\n",
       "      <td>25.60891</td>\n",
       "      <td>8.55</td>\n",
       "      <td>NaN</td>\n",
       "      <td>NaN</td>\n",
       "    </tr>\n",
       "    <tr>\n",
       "      <th>4</th>\n",
       "      <td>1847</td>\n",
       "      <td>Mecca</td>\n",
       "      <td>25.60891</td>\n",
       "      <td>8.09</td>\n",
       "      <td>23.577564</td>\n",
       "      <td>8.062</td>\n",
       "    </tr>\n",
       "  </tbody>\n",
       "</table>\n",
       "</div>"
      ],
      "text/plain": [
       "   year   city  city_temp  global_temp  rolling_Average_city  \\\n",
       "0  1843  Mecca   25.16000         8.17                   NaN   \n",
       "1  1844  Mecca   19.05000         7.65                   NaN   \n",
       "2  1845  Mecca   22.46000         7.85                   NaN   \n",
       "3  1846  Mecca   25.60891         8.55                   NaN   \n",
       "4  1847  Mecca   25.60891         8.09             23.577564   \n",
       "\n",
       "   rolling_Average_global  \n",
       "0                     NaN  \n",
       "1                     NaN  \n",
       "2                     NaN  \n",
       "3                     NaN  \n",
       "4                   8.062  "
      ]
     },
     "execution_count": 9,
     "metadata": {},
     "output_type": "execute_result"
    }
   ],
   "source": [
    "df.head()"
   ]
  },
  {
   "cell_type": "code",
   "execution_count": 10,
   "id": "0eb9d330",
   "metadata": {
    "execution": {
     "iopub.execute_input": "2021-07-27T08:11:33.346510Z",
     "iopub.status.busy": "2021-07-27T08:11:33.345656Z",
     "iopub.status.idle": "2021-07-27T08:11:33.349803Z",
     "shell.execute_reply": "2021-07-27T08:11:33.349160Z",
     "shell.execute_reply.started": "2021-07-27T08:00:18.054958Z"
    },
    "papermill": {
     "duration": 0.039513,
     "end_time": "2021-07-27T08:11:33.349946",
     "exception": false,
     "start_time": "2021-07-27T08:11:33.310433",
     "status": "completed"
    },
    "scrolled": true,
    "tags": []
   },
   "outputs": [
    {
     "data": {
      "text/html": [
       "<div>\n",
       "<style scoped>\n",
       "    .dataframe tbody tr th:only-of-type {\n",
       "        vertical-align: middle;\n",
       "    }\n",
       "\n",
       "    .dataframe tbody tr th {\n",
       "        vertical-align: top;\n",
       "    }\n",
       "\n",
       "    .dataframe thead th {\n",
       "        text-align: right;\n",
       "    }\n",
       "</style>\n",
       "<table border=\"1\" class=\"dataframe\">\n",
       "  <thead>\n",
       "    <tr style=\"text-align: right;\">\n",
       "      <th></th>\n",
       "      <th>year</th>\n",
       "      <th>city</th>\n",
       "      <th>city_temp</th>\n",
       "      <th>global_temp</th>\n",
       "      <th>rolling_Average_city</th>\n",
       "      <th>rolling_Average_global</th>\n",
       "    </tr>\n",
       "  </thead>\n",
       "  <tbody>\n",
       "    <tr>\n",
       "      <th>166</th>\n",
       "      <td>2009</td>\n",
       "      <td>Mecca</td>\n",
       "      <td>26.90</td>\n",
       "      <td>9.51</td>\n",
       "      <td>26.602</td>\n",
       "      <td>9.580</td>\n",
       "    </tr>\n",
       "    <tr>\n",
       "      <th>167</th>\n",
       "      <td>2010</td>\n",
       "      <td>Mecca</td>\n",
       "      <td>27.30</td>\n",
       "      <td>9.70</td>\n",
       "      <td>26.768</td>\n",
       "      <td>9.580</td>\n",
       "    </tr>\n",
       "    <tr>\n",
       "      <th>168</th>\n",
       "      <td>2011</td>\n",
       "      <td>Mecca</td>\n",
       "      <td>26.57</td>\n",
       "      <td>9.52</td>\n",
       "      <td>26.798</td>\n",
       "      <td>9.578</td>\n",
       "    </tr>\n",
       "    <tr>\n",
       "      <th>169</th>\n",
       "      <td>2012</td>\n",
       "      <td>Mecca</td>\n",
       "      <td>27.02</td>\n",
       "      <td>9.51</td>\n",
       "      <td>26.886</td>\n",
       "      <td>9.534</td>\n",
       "    </tr>\n",
       "    <tr>\n",
       "      <th>170</th>\n",
       "      <td>2013</td>\n",
       "      <td>Mecca</td>\n",
       "      <td>27.57</td>\n",
       "      <td>9.61</td>\n",
       "      <td>27.072</td>\n",
       "      <td>9.570</td>\n",
       "    </tr>\n",
       "  </tbody>\n",
       "</table>\n",
       "</div>"
      ],
      "text/plain": [
       "     year   city  city_temp  global_temp  rolling_Average_city  \\\n",
       "166  2009  Mecca      26.90         9.51                26.602   \n",
       "167  2010  Mecca      27.30         9.70                26.768   \n",
       "168  2011  Mecca      26.57         9.52                26.798   \n",
       "169  2012  Mecca      27.02         9.51                26.886   \n",
       "170  2013  Mecca      27.57         9.61                27.072   \n",
       "\n",
       "     rolling_Average_global  \n",
       "166                   9.580  \n",
       "167                   9.580  \n",
       "168                   9.578  \n",
       "169                   9.534  \n",
       "170                   9.570  "
      ]
     },
     "execution_count": 10,
     "metadata": {},
     "output_type": "execute_result"
    }
   ],
   "source": [
    "df.tail()"
   ]
  },
  {
   "cell_type": "markdown",
   "id": "dc39fee6",
   "metadata": {
    "papermill": {
     "duration": 0.022565,
     "end_time": "2021-07-27T08:11:33.395441",
     "exception": false,
     "start_time": "2021-07-27T08:11:33.372876",
     "status": "completed"
    },
    "tags": []
   },
   "source": [
    "###  Used Moving average in the Line chart."
   ]
  },
  {
   "cell_type": "code",
   "execution_count": 11,
   "id": "adbdf2ac",
   "metadata": {
    "execution": {
     "iopub.execute_input": "2021-07-27T08:11:33.463091Z",
     "iopub.status.busy": "2021-07-27T08:11:33.460379Z",
     "iopub.status.idle": "2021-07-27T08:11:33.644668Z",
     "shell.execute_reply": "2021-07-27T08:11:33.643988Z",
     "shell.execute_reply.started": "2021-07-27T08:00:18.093182Z"
    },
    "papermill": {
     "duration": 0.227277,
     "end_time": "2021-07-27T08:11:33.644829",
     "exception": false,
     "start_time": "2021-07-27T08:11:33.417552",
     "status": "completed"
    },
    "tags": []
   },
   "outputs": [
    {
     "data": {
      "image/png": "[encoded data removed]",
      "text/plain": [
       "<Figure size 432x288 with 1 Axes>"
      ]
     },
     "metadata": {
      "needs_background": "light"
     },
     "output_type": "display_data"
    }
   ],
   "source": [
    "#Compare average temp. \n",
    "\n",
    "plt.plot(df['year'],df['rolling_Average_global'],label='Global')\n",
    "plt.plot(df['year'],df['rolling_Average_city'],label='mecca')\n",
    "plt.legend()\n",
    "plt.title(\"5-years moving average temperature comparison, Global Vs Mecca\")\n",
    "plt.xlabel(\"Years\")\n",
    "plt.ylabel(\"Temperature (°C)\") \n",
    "plt.show()"
   ]
  },
  {
   "cell_type": "markdown",
   "id": "ef7e5d37",
   "metadata": {
    "papermill": {
     "duration": 0.022938,
     "end_time": "2021-07-27T08:11:33.691868",
     "exception": false,
     "start_time": "2021-07-27T08:11:33.668930",
     "status": "completed"
    },
    "tags": []
   },
   "source": [
    "## Observations.\n",
    "- The difference between Mecca temp and global temp was the temperature degree which in Mecca the mean temperature was 25.6 °C, compared to global temperature where the mean temp was 8.5 °C degrees."
   ]
  },
  {
   "cell_type": "code",
   "execution_count": 12,
   "id": "835d5f03",
   "metadata": {
    "execution": {
     "iopub.execute_input": "2021-07-27T08:11:33.745651Z",
     "iopub.status.busy": "2021-07-27T08:11:33.744835Z",
     "iopub.status.idle": "2021-07-27T08:11:33.770442Z",
     "shell.execute_reply": "2021-07-27T08:11:33.769739Z",
     "shell.execute_reply.started": "2021-07-27T08:00:18.326885Z"
    },
    "papermill": {
     "duration": 0.055594,
     "end_time": "2021-07-27T08:11:33.770614",
     "exception": false,
     "start_time": "2021-07-27T08:11:33.715020",
     "status": "completed"
    },
    "scrolled": true,
    "tags": []
   },
   "outputs": [
    {
     "name": "stdout",
     "output_type": "stream",
     "text": [
      "mean value of Mecca tempartue before 2000 year:  25.5057557569819\n",
      "mean value of Mecca tempartue after 2000 year:  26.776923076923076\n"
     ]
    }
   ],
   "source": [
    "print(\"mean value of Mecca tempartue before 2000 year: \", df[df['year'] < 2000][\"city_temp\"].mean())\n",
    "print(\"mean value of Mecca tempartue after 2000 year: \",df[df['year'] > 2000][\"city_temp\"].mean())"
   ]
  },
  {
   "cell_type": "code",
   "execution_count": 13,
   "id": "b144e985",
   "metadata": {
    "execution": {
     "iopub.execute_input": "2021-07-27T08:11:33.828419Z",
     "iopub.status.busy": "2021-07-27T08:11:33.827478Z",
     "iopub.status.idle": "2021-07-27T08:11:33.832232Z",
     "shell.execute_reply": "2021-07-27T08:11:33.831570Z",
     "shell.execute_reply.started": "2021-07-27T08:00:18.352516Z"
    },
    "papermill": {
     "duration": 0.03793,
     "end_time": "2021-07-27T08:11:33.832372",
     "exception": false,
     "start_time": "2021-07-27T08:11:33.794442",
     "status": "completed"
    },
    "scrolled": true,
    "tags": []
   },
   "outputs": [
    {
     "name": "stdout",
     "output_type": "stream",
     "text": [
      "mean value of global tempartue before 2000 year:  8.449171974522292\n",
      "mean value of global tempartue after 2000 year:  9.543846153846154\n"
     ]
    }
   ],
   "source": [
    "print(\"mean value of global tempartue before 2000 year: \", df[df['year'] < 2000][\"global_temp\"].mean())\n",
    "print(\"mean value of global tempartue after 2000 year: \",df[df['year'] > 2000][\"global_temp\"].mean())"
   ]
  },
  {
   "cell_type": "code",
   "execution_count": 14,
   "id": "c7d5798c",
   "metadata": {
    "execution": {
     "iopub.execute_input": "2021-07-27T08:11:33.886168Z",
     "iopub.status.busy": "2021-07-27T08:11:33.885480Z",
     "iopub.status.idle": "2021-07-27T08:11:34.113188Z",
     "shell.execute_reply": "2021-07-27T08:11:34.112562Z",
     "shell.execute_reply.started": "2021-07-27T08:00:18.363958Z"
    },
    "papermill": {
     "duration": 0.257178,
     "end_time": "2021-07-27T08:11:34.113338",
     "exception": false,
     "start_time": "2021-07-27T08:11:33.856160",
     "status": "completed"
    },
    "scrolled": true,
    "tags": []
   },
   "outputs": [
    {
     "data": {
      "text/plain": [
       "<AxesSubplot:xlabel='year', ylabel='city_temp'>"
      ]
     },
     "execution_count": 14,
     "metadata": {},
     "output_type": "execute_result"
    },
    {
     "data": {
      "image/png": "[encoded data removed]",
      "text/plain": [
       "<Figure size 432x288 with 1 Axes>"
      ]
     },
     "metadata": {
      "needs_background": "light"
     },
     "output_type": "display_data"
    }
   ],
   "source": [
    "#correlations between year and temperature.\n",
    "df.plot.scatter('year', 'city_temp')"
   ]
  },
  {
   "cell_type": "code",
   "execution_count": 15,
   "id": "79351f05",
   "metadata": {
    "execution": {
     "iopub.execute_input": "2021-07-27T08:11:34.195055Z",
     "iopub.status.busy": "2021-07-27T08:11:34.194345Z",
     "iopub.status.idle": "2021-07-27T08:11:34.363012Z",
     "shell.execute_reply": "2021-07-27T08:11:34.362250Z",
     "shell.execute_reply.started": "2021-07-27T08:00:18.597134Z"
    },
    "papermill": {
     "duration": 0.224218,
     "end_time": "2021-07-27T08:11:34.363202",
     "exception": false,
     "start_time": "2021-07-27T08:11:34.138984",
     "status": "completed"
    },
    "tags": []
   },
   "outputs": [
    {
     "data": {
      "text/plain": [
       "<AxesSubplot:xlabel='year', ylabel='global_temp'>"
      ]
     },
     "execution_count": 15,
     "metadata": {},
     "output_type": "execute_result"
    },
    {
     "data": {
      "image/png": "[encoded data removed]",
      "text/plain": [
       "<Figure size 432x288 with 1 Axes>"
      ]
     },
     "metadata": {
      "needs_background": "light"
     },
     "output_type": "display_data"
    }
   ],
   "source": [
    "df.plot.scatter('year', 'global_temp')"
   ]
  },
  {
   "cell_type": "markdown",
   "id": "d4913f1f",
   "metadata": {
    "papermill": {
     "duration": 0.02826,
     "end_time": "2021-07-27T08:11:34.418924",
     "exception": false,
     "start_time": "2021-07-27T08:11:34.390664",
     "status": "completed"
    },
    "tags": []
   },
   "source": [
    "- The mean value of global temperature before the 2000 year was 8.4 °C, and after the 2000 year was 9.5 °C (the mean value increased by 1 degree).\n",
    "- In Mecca city the mean value of the temperature before the 2000 year was 25.5 °C, and after 2000 was 26.8 °C degrees (the mean value increased by about 1 degree).\n",
    "- The change in both was similar in Mecca’s temperature and also in the global temperature where the mean temperature increased by 1 °C degree during 1843 to 2013."
   ]
  },
  {
   "cell_type": "markdown",
   "id": "cd996410",
   "metadata": {
    "papermill": {
     "duration": 0.02654,
     "end_time": "2021-07-27T08:11:34.472519",
     "exception": false,
     "start_time": "2021-07-27T08:11:34.445979",
     "status": "completed"
    },
    "tags": []
   },
   "source": [
    "- The correlation between the temperature and year column was a positive correlation which the temp degree increased as the year increased.\n",
    "- We can assume that the temperature will be higher in the next few years also."
   ]
  }
 ],
 "metadata": {
  "kernelspec": {
   "display_name": "Python 3",
   "language": "python",
   "name": "python3"
  },
  "language_info": {
   "codemirror_mode": {
    "name": "ipython",
    "version": 3
   },
   "file_extension": ".py",
   "mimetype": "text/x-python",
   "name": "python",
   "nbconvert_exporter": "python",
   "pygments_lexer": "ipython3",
   "version": "3.7.10"
  },
  "papermill": {
   "default_parameters": {},
   "duration": 12.8831,
   "end_time": "2021-07-27T08:11:35.871161",
   "environment_variables": {},
   "exception": null,
   "input_path": "__notebook__.ipynb",
   "output_path": "__notebook__.ipynb",
   "parameters": {},
   "start_time": "2021-07-27T08:11:22.988061",
   "version": "2.3.3"
  }
 },
 "nbformat": 4,
 "nbformat_minor": 5
}
